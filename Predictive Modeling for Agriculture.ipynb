{
 "cells": [
  {
   "cell_type": "markdown",
   "metadata": {},
   "source": [
    "# Sowing Success: How Machine Learning Helps Farmers Select the Best Crops\n",
    "\n",
    "![Farmer in a field](farmer_in_a_field.jpg)\n",
    "\n",
    "Measuring essential soil metrics such as nitrogen, phosphorous, potassium levels, and pH value is an important aspect of assessing soil condition. However, it can be an expensive and time-consuming process, which can cause farmers to prioritize which metrics to measure based on their budget constraints.\n",
    "\n",
    "Farmers have various options when it comes to deciding which crop to plant each season. Their primary objective is to maximize the yield of their crops, taking into account different factors. One crucial factor that affects crop growth is the condition of the soil in the field, which can be assessed by measuring basic elements such as nitrogen and potassium levels. Each crop has an ideal soil condition that ensures optimal growth and maximum yield.\n",
    "\n",
    "A farmer reached out to you as a machine learning expert for assistance in selecting the best crop for his field. They've provided you with a dataset called `soil_measures.csv`, which contains:\n",
    "\n",
    "- `\"N\"`: Nitrogen content ratio in the soil\n",
    "- `\"P\"`: Phosphorous content ratio in the soil\n",
    "- `\"K\"`: Potassium content ratio in the soil\n",
    "- `\"pH\"` value of the soil\n",
    "- `\"crop\"`: categorical values that contain various crops (target variable).\n",
    "\n",
    "Each row in this dataset represents various measures of the soil in a particular field. Based on these measurements, the crop specified in the `\"crop\"` column is the optimal choice for that field.  \n",
    "\n",
    "In this project, you will build multi-class classification models to predict the type of `\"crop\"` and identify the single most importance feature for predictive performance."
   ]
  },
  {
   "cell_type": "code",
   "execution_count": 7,
   "metadata": {
    "executionCancelledAt": null,
    "executionTime": 54,
    "id": "bA5ajAmk7XH6",
    "lastExecutedAt": 1724962716289,
    "lastExecutedByKernel": "f5c59bb8-6938-42d3-aaaa-27d6492a2a95",
    "lastScheduledRunId": null,
    "lastSuccessfullyExecutedCode": "# All required libraries are imported here for you.\nimport pandas as pd\nfrom sklearn.linear_model import LogisticRegression\nfrom sklearn.model_selection import train_test_split\nfrom sklearn import metrics\n\n# Load the dataset\ncrops = pd.read_csv(\"soil_measures.csv\")\n\n# Write your code here ="
   },
   "outputs": [],
   "source": [
    "# All required libraries are imported here for you.\n",
    "import pandas as pd\n",
    "import numpy as np\n",
    "\n",
    "import warnings\n",
    "warnings.filterwarnings('ignore')\n",
    "\n",
    "from sklearn.linear_model import LogisticRegression\n",
    "from sklearn.model_selection import train_test_split\n",
    "from sklearn import metrics\n",
    "\n",
    "# Load the dataset\n",
    "crops = pd.read_csv(\"soil_measures.csv\")\n",
    "\n",
    "# Write your code here ="
   ]
  },
  {
   "cell_type": "code",
   "execution_count": 8,
   "metadata": {
    "executionCancelledAt": null,
    "executionTime": 57,
    "lastExecutedAt": 1724962716346,
    "lastExecutedByKernel": "f5c59bb8-6938-42d3-aaaa-27d6492a2a95",
    "lastScheduledRunId": null,
    "lastSuccessfullyExecutedCode": "crops.head()",
    "outputsMetadata": {
     "0": {
      "height": 196,
      "type": "dataFrame"
     }
    }
   },
   "outputs": [
    {
     "data": {
      "text/html": [
       "<div>\n",
       "<style scoped>\n",
       "    .dataframe tbody tr th:only-of-type {\n",
       "        vertical-align: middle;\n",
       "    }\n",
       "\n",
       "    .dataframe tbody tr th {\n",
       "        vertical-align: top;\n",
       "    }\n",
       "\n",
       "    .dataframe thead th {\n",
       "        text-align: right;\n",
       "    }\n",
       "</style>\n",
       "<table border=\"1\" class=\"dataframe\">\n",
       "  <thead>\n",
       "    <tr style=\"text-align: right;\">\n",
       "      <th></th>\n",
       "      <th>N</th>\n",
       "      <th>P</th>\n",
       "      <th>K</th>\n",
       "      <th>ph</th>\n",
       "      <th>crop</th>\n",
       "    </tr>\n",
       "  </thead>\n",
       "  <tbody>\n",
       "    <tr>\n",
       "      <th>0</th>\n",
       "      <td>90</td>\n",
       "      <td>42</td>\n",
       "      <td>43</td>\n",
       "      <td>6.502985</td>\n",
       "      <td>rice</td>\n",
       "    </tr>\n",
       "    <tr>\n",
       "      <th>1</th>\n",
       "      <td>85</td>\n",
       "      <td>58</td>\n",
       "      <td>41</td>\n",
       "      <td>7.038096</td>\n",
       "      <td>rice</td>\n",
       "    </tr>\n",
       "    <tr>\n",
       "      <th>2</th>\n",
       "      <td>60</td>\n",
       "      <td>55</td>\n",
       "      <td>44</td>\n",
       "      <td>7.840207</td>\n",
       "      <td>rice</td>\n",
       "    </tr>\n",
       "    <tr>\n",
       "      <th>3</th>\n",
       "      <td>74</td>\n",
       "      <td>35</td>\n",
       "      <td>40</td>\n",
       "      <td>6.980401</td>\n",
       "      <td>rice</td>\n",
       "    </tr>\n",
       "    <tr>\n",
       "      <th>4</th>\n",
       "      <td>78</td>\n",
       "      <td>42</td>\n",
       "      <td>42</td>\n",
       "      <td>7.628473</td>\n",
       "      <td>rice</td>\n",
       "    </tr>\n",
       "  </tbody>\n",
       "</table>\n",
       "</div>"
      ],
      "text/plain": [
       "    N   P   K        ph  crop\n",
       "0  90  42  43  6.502985  rice\n",
       "1  85  58  41  7.038096  rice\n",
       "2  60  55  44  7.840207  rice\n",
       "3  74  35  40  6.980401  rice\n",
       "4  78  42  42  7.628473  rice"
      ]
     },
     "execution_count": 8,
     "metadata": {},
     "output_type": "execute_result"
    }
   ],
   "source": [
    "crops.head()"
   ]
  },
  {
   "cell_type": "code",
   "execution_count": 9,
   "metadata": {
    "executionCancelledAt": null,
    "executionTime": 51,
    "lastExecutedAt": 1724962716397,
    "lastExecutedByKernel": "f5c59bb8-6938-42d3-aaaa-27d6492a2a95",
    "lastScheduledRunId": null,
    "lastSuccessfullyExecutedCode": "crops['crop'].unique()"
   },
   "outputs": [
    {
     "data": {
      "text/plain": [
       "array(['rice', 'maize', 'chickpea', 'kidneybeans', 'pigeonpeas',\n",
       "       'mothbeans', 'mungbean', 'blackgram', 'lentil', 'pomegranate',\n",
       "       'banana', 'mango', 'grapes', 'watermelon', 'muskmelon', 'apple',\n",
       "       'orange', 'papaya', 'coconut', 'cotton', 'jute', 'coffee'],\n",
       "      dtype=object)"
      ]
     },
     "execution_count": 9,
     "metadata": {},
     "output_type": "execute_result"
    }
   ],
   "source": [
    "crops['crop'].unique()"
   ]
  },
  {
   "cell_type": "code",
   "execution_count": 13,
   "metadata": {},
   "outputs": [
    {
     "data": {
      "text/plain": [
       "N       0\n",
       "P       0\n",
       "K       0\n",
       "ph      0\n",
       "crop    0\n",
       "dtype: int64"
      ]
     },
     "execution_count": 13,
     "metadata": {},
     "output_type": "execute_result"
    }
   ],
   "source": [
    "# Check for missing values\n",
    "crops.isna().sum()"
   ]
  },
  {
   "cell_type": "code",
   "execution_count": 14,
   "metadata": {},
   "outputs": [
    {
     "data": {
      "text/plain": [
       "array(['rice', 'maize', 'chickpea', 'kidneybeans', 'pigeonpeas',\n",
       "       'mothbeans', 'mungbean', 'blackgram', 'lentil', 'pomegranate',\n",
       "       'banana', 'mango', 'grapes', 'watermelon', 'muskmelon', 'apple',\n",
       "       'orange', 'papaya', 'coconut', 'cotton', 'jute', 'coffee'],\n",
       "      dtype=object)"
      ]
     },
     "execution_count": 14,
     "metadata": {},
     "output_type": "execute_result"
    }
   ],
   "source": [
    "# Check how many crops we have, i.e., multi-class target\n",
    "crops.crop.unique()\n"
   ]
  },
  {
   "cell_type": "code",
   "execution_count": null,
   "metadata": {},
   "outputs": [],
   "source": [
    "# Split into feature and target sets\n",
    "X = crops.drop(columns=\"crop\")\n",
    "y = crops[\"crop\"]"
   ]
  },
  {
   "cell_type": "code",
   "execution_count": 17,
   "metadata": {
    "executionCancelledAt": null,
    "executionTime": 3998,
    "lastExecutedAt": 1724962720396,
    "lastExecutedByKernel": "f5c59bb8-6938-42d3-aaaa-27d6492a2a95",
    "lastScheduledRunId": null,
    "lastSuccessfullyExecutedCode": "# Check for missing values\ncrops.isna().sum()\n\n# Check how many crops we have, i.e., multi-class target\ncrops.crop.unique()\n\n# Split into feature and target sets\nX = crops.drop(columns=\"crop\")\ny = crops[\"crop\"]\n\n# Split the data into training and testing sets\nX_train, X_test, y_train, y_test = train_test_split(\n    X,\n    y,\n    test_size=0.2,\n    random_state=42\n)\n\n# Create a dictionary to store the model performance for each feature\nfeature_performance = {}\n\n# Train a logistic regression model for each feature\nfor feature in [\"N\", \"P\", \"K\", \"ph\"]:\n    log_reg = LogisticRegression(multi_class=\"multinomial\")\n    log_reg.fit(X_train[[feature]], y_train)\n    y_pred = log_reg.predict(X_test[[feature]])\n    #print(y_pred)\n    # Calculate F1 score, the harmonic mean of precision and recall\n    # Could also use balanced_accuracy_score\n    f1 = metrics.f1_score(y_test, y_pred, average=\"weighted\")\n    \n    # Add feature-f1 score pairs to the dictionary\n    feature_performance[feature] = f1\n    print(f\"F1-score for {feature}: {f1}\")\n\n# K produced the best F1 score\n# Store in best_predictive_feature dictionary\nbest_predictive_feature = {\"K\": feature_performance[\"K\"]}\nbest_predictive_feature",
    "outputsMetadata": {
     "0": {
      "height": 80,
      "type": "stream"
     }
    }
   },
   "outputs": [
    {
     "name": "stdout",
     "output_type": "stream",
     "text": [
      "Crops count for feature: N\n",
      "[['blackgram' 69]\n",
      " ['cotton' 39]\n",
      " ['grapes' 60]\n",
      " ['maize' 21]\n",
      " ['muskmelon' 54]\n",
      " ['orange' 85]\n",
      " ['papaya' 27]\n",
      " ['pomegranate' 52]\n",
      " ['rice' 33]]\n",
      "F1-score for N: 0.09149868209906838\n",
      "score for N: 0.13863636363636364\n",
      "\n",
      "\n",
      "Crops count for feature: P\n",
      "[['apple' 15]\n",
      " ['banana' 46]\n",
      " ['coffee' 30]\n",
      " ['cotton' 65]\n",
      " ['grapes' 22]\n",
      " ['lentil' 62]\n",
      " ['maize' 21]\n",
      " ['mango' 21]\n",
      " ['mungbean' 8]\n",
      " ['muskmelon' 22]\n",
      " ['papaya' 64]\n",
      " ['pomegranate' 21]\n",
      " ['watermelon' 43]]\n",
      "F1-score for P: 0.14761942909728204\n",
      "score for P: 0.20227272727272727\n",
      "\n",
      "\n",
      "Crops count for feature: K\n",
      "[['apple' 2]\n",
      " ['chickpea' 26]\n",
      " ['coconut' 26]\n",
      " ['coffee' 47]\n",
      " ['cotton' 34]\n",
      " ['grapes' 35]\n",
      " ['lentil' 52]\n",
      " ['maize' 19]\n",
      " ['mango' 12]\n",
      " ['muskmelon' 59]\n",
      " ['orange' 14]\n",
      " ['papaya' 28]\n",
      " ['pigeonpeas' 36]\n",
      " ['pomegranate' 20]\n",
      " ['rice' 30]]\n",
      "F1-score for K: 0.23896974566001802\n",
      "score for K: 0.2863636363636364\n",
      "\n",
      "\n",
      "Crops count for feature: ph\n",
      "[['chickpea' 45]\n",
      " ['grapes' 97]\n",
      " ['lentil' 86]\n",
      " ['mango' 77]\n",
      " ['mungbean' 2]\n",
      " ['muskmelon' 74]\n",
      " ['orange' 30]\n",
      " ['watermelon' 29]]\n",
      "F1-score for ph: 0.04532731061152114\n",
      "score for ph: 0.09772727272727273\n",
      "\n",
      "\n"
     ]
    }
   ],
   "source": [
    "# Split the data into training and testing sets\n",
    "X_train, X_test, y_train, y_test = train_test_split(\n",
    "    X,\n",
    "    y,\n",
    "    test_size=0.2,\n",
    "    random_state=42\n",
    ")\n",
    "\n",
    "# Create a dictionary to store the model performance for each feature\n",
    "feature_performance = {}\n",
    "\n",
    "# Train a logistic regression model for each feature\n",
    "for feature in [\"N\", \"P\", \"K\", \"ph\"]:\n",
    "    log_reg = LogisticRegression(multi_class=\"multinomial\")\n",
    "    log_reg.fit(X_train[[feature]], y_train)\n",
    "    y_pred = log_reg.predict(X_test[[feature]])\n",
    "    unique, counts = np.unique(y_pred, return_counts=True)\n",
    "    print(f\"Crops count for feature: {feature}\")\n",
    "    print(np.asarray((unique, counts)).T)\n",
    "    \n",
    "    # Calculate F1 score, the harmonic mean of precision and recall\n",
    "    # Could also use balanced_accuracy_score\n",
    "    f1 = metrics.f1_score(y_test, y_pred, average=\"weighted\")\n",
    "    score = log_reg.score(X_test[[feature]], y_test)\n",
    "    \n",
    "    # Add feature-f1 score pairs to the dictionary\n",
    "    feature_performance[feature + '_f1'] = f1\n",
    "    feature_performance[feature + '_score'] = score\n",
    "    print(f\"F1-score for {feature}: {f1}\")\n",
    "    print(f\"score for {feature}: {score}\")\n",
    "    print('\\n')\n",
    "\n"
   ]
  },
  {
   "cell_type": "code",
   "execution_count": 11,
   "metadata": {},
   "outputs": [
    {
     "data": {
      "text/plain": [
       "{'N_f1': 0.09149868209906838,\n",
       " 'N_score': 0.13863636363636364,\n",
       " 'P_f1': 0.14761942909728204,\n",
       " 'P_score': 0.20227272727272727,\n",
       " 'K_f1': 0.23896974566001802,\n",
       " 'K_score': 0.2863636363636364,\n",
       " 'ph_f1': 0.04532731061152114,\n",
       " 'ph_score': 0.09772727272727273}"
      ]
     },
     "execution_count": 11,
     "metadata": {},
     "output_type": "execute_result"
    }
   ],
   "source": [
    "feature_performance"
   ]
  },
  {
   "cell_type": "markdown",
   "metadata": {},
   "source": [
    "#### K produced the best F1 score"
   ]
  },
  {
   "cell_type": "code",
   "execution_count": 12,
   "metadata": {},
   "outputs": [
    {
     "data": {
      "text/plain": [
       "{'K_f1': 0.23896974566001802, 'K_score': 0.2863636363636364}"
      ]
     },
     "execution_count": 12,
     "metadata": {},
     "output_type": "execute_result"
    }
   ],
   "source": [
    "best_predictive_feature = {\"K_f1\": feature_performance[\"K_f1\"], \"K_score\" : feature_performance[\"K_score\"]}\n",
    "best_predictive_feature"
   ]
  },
  {
   "cell_type": "code",
   "execution_count": null,
   "metadata": {},
   "outputs": [],
   "source": []
  }
 ],
 "metadata": {
  "colab": {
   "name": "Welcome to DataCamp Workspaces.ipynb",
   "provenance": []
  },
  "kernelspec": {
   "display_name": "Python 3",
   "language": "python",
   "name": "python3"
  },
  "language_info": {
   "codemirror_mode": {
    "name": "ipython",
    "version": 3
   },
   "file_extension": ".py",
   "mimetype": "text/x-python",
   "name": "python",
   "nbconvert_exporter": "python",
   "pygments_lexer": "ipython3",
   "version": "3.8.3"
  }
 },
 "nbformat": 4,
 "nbformat_minor": 5
}
